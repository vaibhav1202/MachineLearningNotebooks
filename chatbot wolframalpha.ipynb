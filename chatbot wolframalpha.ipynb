{
 "cells": [
  {
   "cell_type": "code",
   "execution_count": null,
   "metadata": {},
   "outputs": [],
   "source": [
    "import wikipedia\n",
    "import wolframalpha\n",
    "while True:\n",
    "    inpu=input(\"Q: \")\n",
    "    \n",
    "    try:\n",
    "       # wolframalpha\n",
    "        app_id=\"API key\"\n",
    "        client=wolframalpha.Client(app_id)\n",
    "        res=client.query(inpu)\n",
    "        answer=next(res.results).text\n",
    "        print (answer,\"\\n\")\n",
    "    except:\n",
    "        try:\n",
    "            # wikipedia\n",
    "            print (wikipedia.summary(inpu,sentences=100),'\\n')\n",
    "        except:\n",
    "            print(\"\\n plz input something else\")\n",
    "    "
   ]
  }
 ],
 "metadata": {
  "kernelspec": {
   "display_name": "Python 3",
   "language": "python",
   "name": "python3"
  },
  "language_info": {
   "codemirror_mode": {
    "name": "ipython",
    "version": 3
   },
   "file_extension": ".py",
   "mimetype": "text/x-python",
   "name": "python",
   "nbconvert_exporter": "python",
   "pygments_lexer": "ipython3",
   "version": "3.6.5"
  }
 },
 "nbformat": 4,
 "nbformat_minor": 2
}
